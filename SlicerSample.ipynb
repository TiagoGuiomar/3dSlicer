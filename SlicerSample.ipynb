{
 "cells": [
  {
   "cell_type": "markdown",
   "id": "22e9390e",
   "metadata": {},
   "source": [
    "## Importar Slicer"
   ]
  },
  {
   "cell_type": "code",
   "execution_count": null,
   "id": "32cf4bfd",
   "metadata": {},
   "outputs": [],
   "source": [
    "import JupyterNotebooksLib as slicernb\n",
    "import slicer\n",
    "\n",
    "# Set viewer size to 50% of screen size\n",
    "slicernb.AppWindow.setWindowSize(scale=0.5)\n",
    "# Hide patient information from slice view\n",
    "slicernb.showSliceViewAnnotations(False)"
   ]
  },
  {
   "cell_type": "code",
   "execution_count": null,
   "id": "31f7320f",
   "metadata": {},
   "outputs": [],
   "source": [
    "# Clear scene\n",
    "slicer.mrmlScene.Clear(False)\n",
    "\n",
    "# Load from local file\n",
    "volume = slicer.util.loadVolume('T1W/BCCT054-T1W-0001.dcm')\n",
    "\n",
    "# Lightbox view\n",
    "slicernb.ViewLightboxDisplay(\"Red\", columns=5, rows=3, rangeShrink=[45,50])\n"
   ]
  },
  {
   "cell_type": "code",
   "execution_count": null,
   "id": "a17faa8a",
   "metadata": {},
   "outputs": [],
   "source": [
    "# Show slice view\n",
    "slicernb.ViewDisplay(\"FourUP\")"
   ]
  },
  {
   "cell_type": "code",
   "execution_count": null,
   "id": "dfacc2c1",
   "metadata": {},
   "outputs": [],
   "source": []
  },
  {
   "cell_type": "code",
   "execution_count": null,
   "id": "2ffa9525",
   "metadata": {},
   "outputs": [],
   "source": []
  },
  {
   "cell_type": "code",
   "execution_count": null,
   "id": "3dce0f06",
   "metadata": {},
   "outputs": [],
   "source": []
  },
  {
   "cell_type": "code",
   "execution_count": null,
   "id": "a9c00eb7",
   "metadata": {},
   "outputs": [],
   "source": [
    "\n"
   ]
  },
  {
   "cell_type": "code",
   "execution_count": null,
   "id": "52e65021",
   "metadata": {},
   "outputs": [],
   "source": [
    "   \n",
    "    "
   ]
  },
  {
   "cell_type": "code",
   "execution_count": null,
   "id": "a10798a5",
   "metadata": {},
   "outputs": [],
   "source": []
  },
  {
   "cell_type": "code",
   "execution_count": null,
   "id": "a06bfadc",
   "metadata": {},
   "outputs": [],
   "source": []
  },
  {
   "cell_type": "code",
   "execution_count": null,
   "id": "ad6fa2c0",
   "metadata": {},
   "outputs": [],
   "source": []
  },
  {
   "cell_type": "code",
   "execution_count": null,
   "id": "0c564ffd",
   "metadata": {},
   "outputs": [],
   "source": []
  },
  {
   "cell_type": "code",
   "execution_count": null,
   "id": "db37f44e",
   "metadata": {},
   "outputs": [],
   "source": []
  }
 ],
 "metadata": {
  "kernelspec": {
   "display_name": "Slicer 4.11",
   "language": "python",
   "name": "slicer-4.11"
  },
  "language_info": {
   "file_extension": ".py",
   "mimetype": "text/x-python",
   "name": "python",
   "version": "3.6.7"
  }
 },
 "nbformat": 4,
 "nbformat_minor": 5
}
